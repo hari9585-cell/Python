{
 "cells": [
  {
   "cell_type": "code",
   "execution_count": 20,
   "id": "705a83b1-a938-454b-8ce8-202846f82c35",
   "metadata": {},
   "outputs": [
    {
     "name": "stdout",
     "output_type": "stream",
     "text": [
      "15\n",
      "8\n",
      "30\n"
     ]
    }
   ],
   "source": [
    "#EXERCISE 1\n",
    "\n",
    "def custom_function(a, b=10, c=None):\n",
    "    if c is None:\n",
    "        print(a + b)\n",
    "    else:\n",
    "        print(a * b * c)\n",
    "\n",
    "# Example :\n",
    "custom_function(5)        # Output: 15 (5 + 10)\n",
    "custom_function(5, 3)     # Output: 8 (5 + 3)\n",
    "custom_function(5, 3, 2)  # Output: 30 (5 * 3 * 2)"
   ]
  },
  {
   "cell_type": "code",
   "execution_count": 26,
   "id": "a7551b42-e627-4f32-b977-294295b3441c",
   "metadata": {},
   "outputs": [
    {
     "name": "stdout",
     "output_type": "stream",
     "text": [
      "['apple', 'world', 'python']\n"
     ]
    }
   ],
   "source": [
    "# EXERCISE 2\n",
    "\n",
    "def filter_strings(string_list):\n",
    "    return list(filter(lambda s: len(s) >= 5, string_list))\n",
    "\n",
    "# Example usage:\n",
    "words = [\"apple\", \"WE\", \"world\", \"python\", \"yes\"]\n",
    "print(filter_strings(words))  # Output: ['apple','WE' 'world', 'python']\n"
   ]
  },
  {
   "cell_type": "code",
   "execution_count": 34,
   "id": "f266a1e4-d490-4b89-b10a-d71373d19eb1",
   "metadata": {},
   "outputs": [
    {
     "name": "stdout",
     "output_type": "stream",
     "text": [
      "38\n"
     ]
    }
   ],
   "source": [
    "# EXERCISE 3\n",
    "\n",
    "expression = \"4 * 9 + 2\"\n",
    "result = eval(expression)\n",
    "print(result)  # Output: text\n"
   ]
  },
  {
   "cell_type": "code",
   "execution_count": 38,
   "id": "bc95ef7a-3e1e-4ce0-a8cb-f2db6e6d4d32",
   "metadata": {},
   "outputs": [
    {
     "name": "stdout",
     "output_type": "stream",
     "text": [
      "[2, 3, 5, 7]\n"
     ]
    }
   ],
   "source": [
    "# EXERCISE 4\n",
    "\n",
    "def is_prime(n):\n",
    "    if n < 2:\n",
    "        return False\n",
    "    for i in range(2, int(n ** 0.5) + 1):\n",
    "        if n % i == 0:\n",
    "            return False\n",
    "    return True\n",
    "\n",
    "numbers = [1, 2, 3, 4, 5, 6, 7, 8, 9, 10]\n",
    "prime_numbers = list(filter(is_prime, numbers))\n",
    "print(prime_numbers)  \n"
   ]
  },
  {
   "cell_type": "code",
   "execution_count": 42,
   "id": "2aea2a08-b1a1-4ef9-b2f9-5da5b1e8a0b2",
   "metadata": {},
   "outputs": [
    {
     "name": "stdout",
     "output_type": "stream",
     "text": [
      "['HELLO', 'ANIMAL', 'PYTHON']\n"
     ]
    }
   ],
   "source": [
    "# EXERCISE 5\n",
    "\n",
    "def convert_to_upper(strings):\n",
    "    return list(map(str.upper, strings))\n",
    "\n",
    "# Example\n",
    "words = [\"hello\", \"Animal\", \"python\"]\n",
    "print(convert_to_upper(words)) \n"
   ]
  }
 ],
 "metadata": {
  "kernelspec": {
   "display_name": "Python [conda env:base] *",
   "language": "python",
   "name": "conda-base-py"
  },
  "language_info": {
   "codemirror_mode": {
    "name": "ipython",
    "version": 3
   },
   "file_extension": ".py",
   "mimetype": "text/x-python",
   "name": "python",
   "nbconvert_exporter": "python",
   "pygments_lexer": "ipython3",
   "version": "3.12.7"
  }
 },
 "nbformat": 4,
 "nbformat_minor": 5
}
