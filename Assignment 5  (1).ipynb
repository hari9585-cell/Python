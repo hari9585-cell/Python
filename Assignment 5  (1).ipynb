{
 "cells": [
  {
   "cell_type": "code",
   "execution_count": 27,
   "id": "dfbd0969-11b4-42ec-86ab-c8bbe5e1ae76",
   "metadata": {},
   "outputs": [
    {
     "name": "stdout",
     "output_type": "stream",
     "text": [
      "File Contents:\n",
      "Hello, this is a test file.\n",
      "Python is amazing!\n"
     ]
    }
   ],
   "source": [
    "# Exercise 1\n",
    "# Create the file if it doesn't exist\n",
    "with open(\"demo.txt\", \"w\") as file:\n",
    "    file.write(\"Hello, this is a test file.\\nPython is amazing!\")\n",
    "try:\n",
    "    with open(\"demo.txt\", \"r\") as file:\n",
    "        print(\"File Contents:\\n\" + file.read())\n",
    "except FileNotFoundError:\n",
    "    print(\"Error: File not found.\")\n"
   ]
  },
  {
   "cell_type": "code",
   "execution_count": 29,
   "id": "a4e4adf8-a7ca-4cd7-92b2-e0c0dc40ccca",
   "metadata": {},
   "outputs": [
    {
     "name": "stdout",
     "output_type": "stream",
     "text": [
      "Source file 'source.txt' created successfully.\n",
      "File copied successfully.\n"
     ]
    }
   ],
   "source": [
    "# Exercise 2\n",
    "# Create \"source.txt\" and write some content into it\n",
    "with open(\"source.txt\", \"w\") as file:\n",
    "    file.write(\"This is the source file.\\nIt has some content to copy.\")\n",
    "print(\"Source file 'source.txt' created successfully.\")\n",
    "try:\n",
    "    with open(\"source.txt\", \"r\") as source, open(\"destination.txt\", \"w\") as destination:\n",
    "        destination.write(source.read())\n",
    "    print(\"File copied successfully.\")\n",
    "except FileNotFoundError:\n",
    "    print(\"Error: Source file not found.\")\n",
    "\n"
   ]
  },
  {
   "cell_type": "code",
   "execution_count": 38,
   "id": "26340f0d-c648-4092-b25c-249bfeb17579",
   "metadata": {},
   "outputs": [
    {
     "name": "stdout",
     "output_type": "stream",
     "text": [
      "File 'words.txt' created successfully.\n",
      "Total number of words: 13\n"
     ]
    }
   ],
   "source": [
    "#Exercise 3: Count total number of words in a file\n",
    "# Create \"words.txt\" and write some content into it\n",
    "with open(\"words.txt\", \"w\") as file:\n",
    "    file.write(\"Python is more demanded language in IT area.\\nIt is easy for beginners.\")\n",
    "print(\"File 'words.txt' created successfully.\")\n",
    "try:\n",
    "    with open(\"words.txt\", \"r\") as file:\n",
    "        content = file.read()  # Read file content\n",
    "        words = content.split()  # Split into words\n",
    "        print(\"Total number of words:\", len(words))\n",
    "except FileNotFoundError:\n",
    "    print(\"Error: File not found.\")"
   ]
  },
  {
   "cell_type": "code",
   "execution_count": 56,
   "id": "c7208edb-926c-4e35-aec4-5c683dfc0272",
   "metadata": {},
   "outputs": [
    {
     "name": "stdin",
     "output_type": "stream",
     "text": [
      "Enter a number:  45\n"
     ]
    },
    {
     "name": "stdout",
     "output_type": "stream",
     "text": [
      "Converted integer: 45\n"
     ]
    }
   ],
   "source": [
    "#Exercise 4: Convert user input to an integer\n",
    "try:\n",
    "    num = int(input(\"Enter a number: \"))  \n",
    "    print(\"Converted integer:\", num)\n",
    "except ValueError:\n",
    "    print(\"Error: Please enter a valid number.\")\n"
   ]
  },
  {
   "cell_type": "code",
   "execution_count": 58,
   "id": "1fac5cff-e80f-49a3-bc95-5ba2583ba649",
   "metadata": {},
   "outputs": [
    {
     "name": "stdin",
     "output_type": "stream",
     "text": [
      "Enter numbers (space-separated):  2 5 7 9 0 5 \n"
     ]
    },
    {
     "name": "stdout",
     "output_type": "stream",
     "text": [
      "Valid list: [2, 5, 7, 9, 0, 5]\n"
     ]
    }
   ],
   "source": [
    "#Exercise 5: Raise an exception for negative numbers in a list\n",
    "try:\n",
    "    numbers = list(map(int, input(\"Enter numbers (space-separated): \").split()))\n",
    "    \n",
    "    for num in numbers:\n",
    "        if num < 0:\n",
    "            raise ValueError(\"Negative numbers are not allowed.\")\n",
    "\n",
    "    print(\"Valid list:\", numbers)\n",
    "except ValueError as e:\n",
    "    print(\"Error:\", e)\n"
   ]
  },
  {
   "cell_type": "code",
   "execution_count": 60,
   "id": "5fa31b6a-c35f-4751-9faa-c289ccee8320",
   "metadata": {},
   "outputs": [
    {
     "name": "stdin",
     "output_type": "stream",
     "text": [
      "Enter numbers (space-separated):  0 60 90\n"
     ]
    },
    {
     "name": "stdout",
     "output_type": "stream",
     "text": [
      "Average: 50.0\n",
      "Program has finished running.\n"
     ]
    }
   ],
   "source": [
    "#Exercise 6: Compute the average of a list of numbers\n",
    "try:\n",
    "    numbers = list(map(int, input(\"Enter numbers (space-separated): \").split()))\n",
    "\n",
    "    if not numbers:\n",
    "        raise ValueError(\"List cannot be empty.\")\n",
    "\n",
    "    average = sum(numbers) / len(numbers)\n",
    "    print(\"Average:\", average)\n",
    "except ValueError as e:\n",
    "    print(\"Error:\", e)\n",
    "except ZeroDivisionError:\n",
    "    print(\"Error: Cannot divide by zero.\")\n",
    "finally:\n",
    "    print(\"Program has finished running.\")\n"
   ]
  },
  {
   "cell_type": "code",
   "execution_count": 76,
   "id": "0914ec4e-f5c0-483b-94f1-073d596715a2",
   "metadata": {},
   "outputs": [
    {
     "name": "stdin",
     "output_type": "stream",
     "text": [
      "Enter the filename:  output.txt\n",
      "Enter the content to write:  Welcome India to homeground.\n"
     ]
    },
    {
     "name": "stdout",
     "output_type": "stream",
     "text": [
      "File written successfully. Welcome!\n"
     ]
    }
   ],
   "source": [
    "# Exercise 7: Write a string to a file using exception handling\n",
    "\n",
    "try:\n",
    "    filename = input(\"Enter the filename: \")  \n",
    "    content = input(\"Enter the content to write: \")\n",
    "\n",
    "    with open(filename, \"w\") as file:\n",
    "        file.write(content)\n",
    "\n",
    "    print(\"File written successfully. Welcome!\")\n",
    "except Exception as e:\n",
    "    print(\"Error:\", e)\n"
   ]
  }
 ],
 "metadata": {
  "kernelspec": {
   "display_name": "Python [conda env:base] *",
   "language": "python",
   "name": "conda-base-py"
  },
  "language_info": {
   "codemirror_mode": {
    "name": "ipython",
    "version": 3
   },
   "file_extension": ".py",
   "mimetype": "text/x-python",
   "name": "python",
   "nbconvert_exporter": "python",
   "pygments_lexer": "ipython3",
   "version": "3.12.7"
  }
 },
 "nbformat": 4,
 "nbformat_minor": 5
}
