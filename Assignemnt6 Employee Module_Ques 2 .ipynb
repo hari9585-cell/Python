{
 "cells": [
  {
   "cell_type": "code",
   "execution_count": 1,
   "id": "bf236823-f370-48aa-8e3b-2a3ea42ff4bf",
   "metadata": {},
   "outputs": [],
   "source": [
    "# Define the Employee class\n",
    "class Employee:\n",
    "    def __init__(self, name, salary):\n",
    "        self.name = name\n",
    "        self.salary = salary\n",
    "\n",
    "    def get_name(self):\n",
    "        return self.name\n",
    "\n",
    "    def get_salary(self):\n",
    "        return self.salary\n"
   ]
  },
  {
   "cell_type": "code",
   "execution_count": 11,
   "id": "3e6c2b0e-5bd5-48b1-ab07-1b875c726cc6",
   "metadata": {},
   "outputs": [
    {
     "name": "stdin",
     "output_type": "stream",
     "text": [
      "Enter Employee number (1 or 2):  1\n"
     ]
    },
    {
     "name": "stdout",
     "output_type": "stream",
     "text": [
      "Employee Name: Jishnu Sudhakar\n",
      "Employee Salary: 80000\n"
     ]
    }
   ],
   "source": [
    "# Create an Employee object\n",
    "emp1 = Employee(\"Jishnu Sudhakar\", 80000)\n",
    "emp2 = Employee(\"Amrutha K\", 20000)\n",
    "\n",
    "# Let the user select which employee's details to show\n",
    "choice = input(\"Enter Employee number (1 or 2): \")\n",
    "\n",
    "if choice == \"1\":\n",
    "    print(\"Employee Name:\", emp1.get_name())\n",
    "    print(\"Employee Salary:\", emp1.get_salary())\n",
    "elif choice == \"2\":\n",
    "    print(\"Employee Name:\", emp2.get_name())\n",
    "    print(\"Employee Salary:\", emp2.get_salary())\n",
    "else:\n",
    "    print(\"Invalid selection! Please enter 1 or 2.\")\n"
   ]
  },
  {
   "cell_type": "code",
   "execution_count": null,
   "id": "f8802cfc-add2-46ca-8ae3-c0aa3032dc61",
   "metadata": {},
   "outputs": [],
   "source": []
  }
 ],
 "metadata": {
  "kernelspec": {
   "display_name": "Python [conda env:base] *",
   "language": "python",
   "name": "conda-base-py"
  },
  "language_info": {
   "codemirror_mode": {
    "name": "ipython",
    "version": 3
   },
   "file_extension": ".py",
   "mimetype": "text/x-python",
   "name": "python",
   "nbconvert_exporter": "python",
   "pygments_lexer": "ipython3",
   "version": "3.12.7"
  }
 },
 "nbformat": 4,
 "nbformat_minor": 5
}
