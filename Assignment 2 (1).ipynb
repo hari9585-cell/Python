{
 "cells": [
  {
   "cell_type": "code",
   "execution_count": 1,
   "id": "e21ae527-76a6-4aaa-a176-d5a559d63758",
   "metadata": {},
   "outputs": [],
   "source": [
    "# Assignemnt 2\n",
    "\n",
    "# EXERCISE 1   Create a list of 5 random numbers and print the list."
   ]
  },
  {
   "cell_type": "code",
   "execution_count": 3,
   "id": "e62d25b9-7c73-4365-935c-2b053375169f",
   "metadata": {},
   "outputs": [
    {
     "name": "stdout",
     "output_type": "stream",
     "text": [
      "Original List: [92, 15, 41, 33, 2]\n"
     ]
    }
   ],
   "source": [
    "import random\n",
    "\n",
    "# Creating a list of 5 random numbers\n",
    "random_list = [random.randint(1, 100) for _ in range(5)]\n",
    "print(\"Original List:\", random_list)\n"
   ]
  },
  {
   "cell_type": "code",
   "execution_count": 7,
   "id": "68eadc0a-fd40-436b-a6d1-980fb95c64e6",
   "metadata": {},
   "outputs": [],
   "source": [
    "# Exercise 2   Insert 3 new values to the list and print the updated list."
   ]
  },
  {
   "cell_type": "code",
   "execution_count": 9,
   "id": "7fad2920-20ec-460d-bda3-8f7c11a05917",
   "metadata": {},
   "outputs": [
    {
     "name": "stdout",
     "output_type": "stream",
     "text": [
      "Updated List: [92, 15, 41, 33, 2, 200, 300, 400]\n"
     ]
    }
   ],
   "source": [
    "# Adding 3 new values to the list\n",
    "random_list.extend([200, 300, 400])\n",
    "print(\"Updated List:\", random_list)\n"
   ]
  },
  {
   "cell_type": "code",
   "execution_count": 11,
   "id": "6dd98f7f-0d22-4815-b619-2f6470aedaac",
   "metadata": {},
   "outputs": [],
   "source": [
    "# Exercise 3  Use a for loop to print each element in the list."
   ]
  },
  {
   "cell_type": "code",
   "execution_count": 15,
   "id": "f4e0d545-75cf-4d2d-ab2d-30530cc3c052",
   "metadata": {},
   "outputs": [
    {
     "name": "stdout",
     "output_type": "stream",
     "text": [
      "List Elements:\n",
      "92\n",
      "15\n",
      "41\n",
      "33\n",
      "2\n",
      "200\n",
      "300\n",
      "400\n"
     ]
    }
   ],
   "source": [
    "print(\"List Elements:\")\n",
    "for num in random_list:\n",
    "    print(num)\n"
   ]
  },
  {
   "cell_type": "code",
   "execution_count": 31,
   "id": "676d2c0b-8fdd-499b-999a-6bf0a569d4ba",
   "metadata": {},
   "outputs": [],
   "source": [
    "#Topic: Dictionary\n",
    "#Exercise 1: Create a dictionary with keys 'name', 'age', and 'address'."
   ]
  },
  {
   "cell_type": "code",
   "execution_count": 27,
   "id": "e13ce471-f809-4696-b4c1-8f5b8ec7966f",
   "metadata": {},
   "outputs": [
    {
     "name": "stdout",
     "output_type": "stream",
     "text": [
      "Original Dictionary: {'name': 'John', 'age': 25, 'address': 'New York'}\n"
     ]
    }
   ],
   "source": [
    "# Creating a dictionary\n",
    "person = {\"name\": \"John\",\n",
    "    \"age\": 25,\n",
    "    \"address\": \"New York\"}\n",
    "print(\"Original Dictionary:\", person)\n"
   ]
  },
  {
   "cell_type": "code",
   "execution_count": 29,
   "id": "4de639dc-a31e-4e73-95c2-55e540a794df",
   "metadata": {},
   "outputs": [],
   "source": [
    "# Exercise 2  Exercise Q2: Add a new key-value pair to the dictionary."
   ]
  },
  {
   "cell_type": "code",
   "execution_count": 33,
   "id": "2e0486ae-85da-410f-bb0c-54bdfcf52ec5",
   "metadata": {},
   "outputs": [
    {
     "name": "stdout",
     "output_type": "stream",
     "text": [
      "Updated Dictionary: {'name': 'John', 'age': 25, 'address': 'New York', 'phone': '1234567890'}\n"
     ]
    }
   ],
   "source": [
    "# Adding a new key-value pair\n",
    "person[\"phone\"] = \"1234567890\"\n",
    "print(\"Updated Dictionary:\", person)\n"
   ]
  },
  {
   "cell_type": "code",
   "execution_count": 35,
   "id": "071b8bc6-938f-4e0e-9fb5-594479c85a28",
   "metadata": {},
   "outputs": [],
   "source": [
    "# Topic: Set\n",
    "# Exercise Q1: Create a set with values 1, 2, 3, 4, and 5."
   ]
  },
  {
   "cell_type": "code",
   "execution_count": 38,
   "id": "514addaa-a58c-4de3-b9be-f4e45bef2fa8",
   "metadata": {},
   "outputs": [
    {
     "name": "stdout",
     "output_type": "stream",
     "text": [
      "Original Set: {1, 2, 3, 4, 5}\n"
     ]
    }
   ],
   "source": [
    "number_set = {1, 2, 3, 4, 5}\n",
    "print(\"Original Set:\", number_set)\n"
   ]
  },
  {
   "cell_type": "code",
   "execution_count": 40,
   "id": "40d7100b-a512-49ae-b806-2e942e406667",
   "metadata": {},
   "outputs": [],
   "source": [
    "# Exercise Q2: Add the value 6 to the set.\n"
   ]
  },
  {
   "cell_type": "code",
   "execution_count": 42,
   "id": "583fc378-4ff2-4de1-8bf2-ba6126c6df79",
   "metadata": {},
   "outputs": [
    {
     "name": "stdout",
     "output_type": "stream",
     "text": [
      "Updated Set: {1, 2, 3, 4, 5, 6}\n"
     ]
    }
   ],
   "source": [
    "number_set.add(6)\n",
    "print(\"Updated Set:\", number_set)"
   ]
  },
  {
   "cell_type": "code",
   "execution_count": 44,
   "id": "6f6982ba-845f-4950-9a4d-29ba55d848e6",
   "metadata": {},
   "outputs": [],
   "source": [
    "# Exercise Q3: Remove the value 3 from the set.\n"
   ]
  },
  {
   "cell_type": "code",
   "execution_count": 46,
   "id": "8079a839-0bcd-4f3d-9688-10ee5a29b1ca",
   "metadata": {},
   "outputs": [
    {
     "name": "stdout",
     "output_type": "stream",
     "text": [
      "Set After Removing 3: {1, 2, 4, 5, 6}\n"
     ]
    }
   ],
   "source": [
    "# Removing an element from the set\n",
    "number_set.discard(3)\n",
    "print(\"Set After Removing 3:\", number_set)\n"
   ]
  },
  {
   "cell_type": "code",
   "execution_count": 48,
   "id": "7e933ccd-0cda-429a-a355-02a6aa70a01f",
   "metadata": {},
   "outputs": [],
   "source": [
    "# Topic: Tuple\n",
    "# Exercise Q1: Create a tuple with values 1, 2, 3, and 4"
   ]
  },
  {
   "cell_type": "code",
   "execution_count": 51,
   "id": "cb3c1402-aa09-4915-8daa-30b8435766ab",
   "metadata": {},
   "outputs": [
    {
     "name": "stdout",
     "output_type": "stream",
     "text": [
      "Tuple: (1, 2, 3, 4)\n"
     ]
    }
   ],
   "source": [
    "# Creating a tuple\n",
    "number_tuple = (1, 2, 3, 4)\n",
    "print(\"Tuple:\", number_tuple)\n"
   ]
  },
  {
   "cell_type": "code",
   "execution_count": 53,
   "id": "e932f5af-f93e-47e9-988f-d8d56d11e594",
   "metadata": {},
   "outputs": [],
   "source": [
    "#Exercise Q2: Print the length of the tuple.\n"
   ]
  },
  {
   "cell_type": "code",
   "execution_count": 55,
   "id": "2ba0125e-6c32-429a-b6f3-46bf96f1aac0",
   "metadata": {},
   "outputs": [
    {
     "name": "stdout",
     "output_type": "stream",
     "text": [
      "Length of Tuple: 4\n"
     ]
    }
   ],
   "source": [
    "# Printing the length of the tuple\n",
    "print(\"Length of Tuple:\", len(number_tuple))\n"
   ]
  },
  {
   "cell_type": "code",
   "execution_count": null,
   "id": "57c9cf37-350a-4844-9323-2485470a76bd",
   "metadata": {},
   "outputs": [],
   "source": []
  }
 ],
 "metadata": {
  "kernelspec": {
   "display_name": "Python [conda env:base] *",
   "language": "python",
   "name": "conda-base-py"
  },
  "language_info": {
   "codemirror_mode": {
    "name": "ipython",
    "version": 3
   },
   "file_extension": ".py",
   "mimetype": "text/x-python",
   "name": "python",
   "nbconvert_exporter": "python",
   "pygments_lexer": "ipython3",
   "version": "3.12.7"
  }
 },
 "nbformat": 4,
 "nbformat_minor": 5
}
