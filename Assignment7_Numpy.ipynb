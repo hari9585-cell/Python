{
 "cells": [
  {
   "cell_type": "code",
   "execution_count": 1,
   "id": "057c8b0d-5a26-48e2-a29e-f94ca9311b01",
   "metadata": {},
   "outputs": [
    {
     "name": "stdout",
     "output_type": "stream",
     "text": [
      "[[ 1  2  3  4  5]\n",
      " [ 6  7  8  9 10]]\n"
     ]
    }
   ],
   "source": [
    "#Exercise 1: Create a 2×5 NumPy array\n",
    "\n",
    "import numpy as np\n",
    "\n",
    "# Create an array from 1 to 10\n",
    "arr = np.arange(1, 11)\n",
    "\n",
    "# Reshape it into a 2x5 matrix\n",
    "matrix = arr.reshape(2, 5)\n",
    "\n",
    "print(matrix)\n"
   ]
  },
  {
   "cell_type": "code",
   "execution_count": 3,
   "id": "52ab894f-18d0-4e32-963c-694c8d1cf2da",
   "metadata": {},
   "outputs": [
    {
     "name": "stdout",
     "output_type": "stream",
     "text": [
      "[ 6  7  8  9 10 11 12 13 14 15 16]\n"
     ]
    }
   ],
   "source": [
    "#Exercise 2: Extract elements from index 5 to 15\n",
    "\n",
    "# Create an array from 1 to 20\n",
    "arr = np.arange(1, 21)\n",
    "\n",
    "# Extract elements from index 5 to 15\n",
    "extracted_elements = arr[5:16]\n",
    "\n",
    "print(extracted_elements)\n"
   ]
  },
  {
   "cell_type": "code",
   "execution_count": 7,
   "id": "3194725e-a6f9-4863-90cd-0c1a7df3c11c",
   "metadata": {},
   "outputs": [
    {
     "name": "stdout",
     "output_type": "stream",
     "text": [
      "apples     3\n",
      "bananas    2\n",
      "oranges    1\n",
      "pears      4\n",
      "dtype: int64\n"
     ]
    }
   ],
   "source": [
    "#Exercise 3: Create a Pandas Series and add a new item\n",
    "\n",
    "import pandas as pd\n",
    "\n",
    "# Create the initial series\n",
    "fruits = pd.Series({'apples': 3, 'bananas': 2, 'oranges': 1})\n",
    "\n",
    "# Adding a new item\n",
    "fruits['pears'] = 4\n",
    "\n",
    "print(fruits)\n"
   ]
  },
  {
   "cell_type": "code",
   "execution_count": 9,
   "id": "655d6c3c-c818-4323-b014-b4b94cb122b3",
   "metadata": {},
   "outputs": [
    {
     "name": "stdout",
     "output_type": "stream",
     "text": [
      "       name  age  gender\n",
      "0      John   28    Male\n",
      "1      Emma   34  Female\n",
      "2      Liam   21    Male\n",
      "3    Olivia   29  Female\n",
      "4      Noah   42    Male\n",
      "5       Ava   37  Female\n",
      "6    Sophia   31  Female\n",
      "7     Mason   26    Male\n",
      "8  Isabella   33  Female\n",
      "9     James   30    Male\n"
     ]
    }
   ],
   "source": [
    "#Exercise 4: Create a DataFrame with name, age, and gender.\n",
    "\n",
    "# Define data\n",
    "data = {\n",
    "    'name': ['John', 'Emma', 'Liam', 'Olivia', 'Noah', 'Ava', 'Sophia', 'Mason', 'Isabella', 'James'],\n",
    "    'age': [28, 34, 21, 29, 42, 37, 31, 26, 33, 30],\n",
    "    'gender': ['Male', 'Female', 'Male', 'Female', 'Male', 'Female', 'Female', 'Male', 'Female', 'Male']\n",
    "}\n",
    "\n",
    "# Create DataFrame\n",
    "df = pd.DataFrame(data)\n",
    "\n",
    "print(df)\n"
   ]
  },
  {
   "cell_type": "code",
   "execution_count": 11,
   "id": "fa3ea759-c104-4a57-b705-4c264c7344fc",
   "metadata": {},
   "outputs": [
    {
     "name": "stdout",
     "output_type": "stream",
     "text": [
      "       name  age  gender  occupation\n",
      "0      John   28    Male  Programmer\n",
      "1      Emma   34  Female     Manager\n",
      "2      Liam   21    Male     Analyst\n",
      "3    Olivia   29  Female  Programmer\n",
      "4      Noah   42    Male     Manager\n",
      "5       Ava   37  Female     Analyst\n",
      "6    Sophia   31  Female  Programmer\n",
      "7     Mason   26    Male     Manager\n",
      "8  Isabella   33  Female     Analyst\n",
      "9     James   30    Male  Programmer\n"
     ]
    }
   ],
   "source": [
    "#Exercise 5: Add an occupation column.\n",
    "\n",
    "# Add occupation column with predefined values\n",
    "df['occupation'] = ['Programmer', 'Manager', 'Analyst', 'Programmer', 'Manager', 'Analyst', \n",
    "                    'Programmer', 'Manager', 'Analyst', 'Programmer']\n",
    "\n",
    "print(df)\n"
   ]
  },
  {
   "cell_type": "code",
   "execution_count": 13,
   "id": "fe77401d-c2cc-4da3-a79f-f9b3426999a1",
   "metadata": {},
   "outputs": [
    {
     "name": "stdout",
     "output_type": "stream",
     "text": [
      "       name  age  gender  occupation\n",
      "1      Emma   34  Female     Manager\n",
      "4      Noah   42    Male     Manager\n",
      "5       Ava   37  Female     Analyst\n",
      "6    Sophia   31  Female  Programmer\n",
      "8  Isabella   33  Female     Analyst\n",
      "9     James   30    Male  Programmer\n"
     ]
    }
   ],
   "source": [
    "#Exercise 6: Select rows where age ≥ 30\n",
    "\n",
    "# Filter rows where age is 30 or more\n",
    "filtered_df = df[df['age'] >= 30]\n",
    "\n",
    "print(filtered_df)\n"
   ]
  },
  {
   "cell_type": "code",
   "execution_count": 23,
   "id": "ab3f9a36-f06e-4bf0-b3d0-93ac90830947",
   "metadata": {},
   "outputs": [
    {
     "name": "stdout",
     "output_type": "stream",
     "text": [
      "       name  age  gender  occupation\n",
      "0      John   28    Male  Programmer\n",
      "1      Emma   34  Female     Manager\n",
      "2      Liam   21    Male     Analyst\n",
      "3    Olivia   29  Female  Programmer\n",
      "4      Noah   42    Male     Manager\n",
      "5       Ava   37  Female     Analyst\n",
      "6    Sophia   31  Female  Programmer\n",
      "7     Mason   26    Male     Manager\n",
      "8  Isabella   33  Female     Analyst\n",
      "9     James   30    Male  Programmer\n"
     ]
    }
   ],
   "source": [
    "#Exercise 7: Convert DataFrame to CSV and read it back.\n",
    "\n",
    "# Save to CSV\n",
    "df.to_csv('data.csv', index=False)\n",
    "\n",
    "# Read CSV file\n",
    "df_read = pd.read_csv('data.csv')\n",
    "\n",
    "# Display contents\n",
    "print(df_read)\n",
    "\n"
   ]
  }
 ],
 "metadata": {
  "kernelspec": {
   "display_name": "Python [conda env:base] *",
   "language": "python",
   "name": "conda-base-py"
  },
  "language_info": {
   "codemirror_mode": {
    "name": "ipython",
    "version": 3
   },
   "file_extension": ".py",
   "mimetype": "text/x-python",
   "name": "python",
   "nbconvert_exporter": "python",
   "pygments_lexer": "ipython3",
   "version": "3.12.7"
  }
 },
 "nbformat": 4,
 "nbformat_minor": 5
}
