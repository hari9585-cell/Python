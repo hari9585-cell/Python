{
 "cells": [
  {
   "cell_type": "markdown",
   "id": "8c39d405-ba45-4020-890d-ea4db7956f03",
   "metadata": {},
   "source": [
    "Exercise 1\n",
    "\n"
   ]
  },
  {
   "cell_type": "code",
   "execution_count": 6,
   "id": "ae8f5f4c-f368-43f8-8a4f-e2b4f9a9e59f",
   "metadata": {},
   "outputs": [
    {
     "name": "stdout",
     "output_type": "stream",
     "text": [
      "Bob\n",
      "ST1001\n",
      "bob@gmail.com\n"
     ]
    }
   ],
   "source": [
    "print(\"Bob\")\n",
    "print(\"ST1001\")\n",
    "print(\"bob@gmail.com\")\n"
   ]
  },
  {
   "cell_type": "markdown",
   "id": "2d1abd84-1936-426d-aeed-92882d7c9c1a",
   "metadata": {},
   "source": [
    "Exercise 2\n"
   ]
  },
  {
   "cell_type": "code",
   "execution_count": 12,
   "id": "ffdc5804-9298-49ad-8929-e22e50faab45",
   "metadata": {},
   "outputs": [
    {
     "name": "stdout",
     "output_type": "stream",
     "text": [
      "Bob\n",
      "ST1001\n",
      "bob@gmail.com\n"
     ]
    }
   ],
   "source": [
    "print(\"Bob\\nST1001\\nbob@gmail.com\")"
   ]
  },
  {
   "cell_type": "markdown",
   "id": "902e98fd-7a8c-4fc2-ac26-244c2a2d2faa",
   "metadata": {},
   "source": [
    "#Exercise 3"
   ]
  },
  {
   "cell_type": "code",
   "execution_count": 1,
   "id": "a2c2d658-fa90-4bed-bcb5-cc770e68cac3",
   "metadata": {},
   "outputs": [
    {
     "name": "stdout",
     "output_type": "stream",
     "text": [
      "14 + 7 = 21\n",
      "14 * 7 = 98\n",
      "14 - 7 = 7\n",
      "14 / 7 = 2.0\n"
     ]
    }
   ],
   "source": [
    "num1 = 14\n",
    "num2 = 7\n",
    "\n",
    "print(num1, \"+\", num2, \"=\", num1 + num2)\n",
    "print(num1, \"*\", num2, \"=\", num1 * num2)\n",
    "print(num1, \"-\", num2, \"=\", num1 - num2)\n",
    "print(num1, \"/\", num2, \"=\", num1 / num2)\n"
   ]
  },
  {
   "cell_type": "markdown",
   "id": "eec27da5-4dff-42ad-81bd-73c78be31460",
   "metadata": {},
   "source": [
    "Exercise 4"
   ]
  },
  {
   "cell_type": "code",
   "execution_count": 13,
   "id": "3523c2c7-1ea4-40f8-9e5f-ea0a49c73899",
   "metadata": {},
   "outputs": [
    {
     "name": "stdout",
     "output_type": "stream",
     "text": [
      "1\n",
      "2\n",
      "3\n",
      "4\n",
      "5\n"
     ]
    }
   ],
   "source": [
    "for a in range(1, 6):\n",
    "    print(a)\n"
   ]
  },
  {
   "cell_type": "markdown",
   "id": "96048ea0-26a3-41a2-9a8b-4733d960f169",
   "metadata": {},
   "source": [
    "Exercise 5"
   ]
  },
  {
   "cell_type": "code",
   "execution_count": 16,
   "id": "21da9f81-ecdf-4189-9fdd-9f7ac1b70486",
   "metadata": {},
   "outputs": [
    {
     "name": "stdout",
     "output_type": "stream",
     "text": [
      "\"SDK\" stands for \"Software Development Kit\", whereas \"IDE\" stands for \"Integrated Development Environment\".\n"
     ]
    }
   ],
   "source": [
    "print(\"\\\"SDK\\\" stands for \\\"Software Development Kit\\\", whereas \\\"IDE\\\" stands for \\\"Integrated Development Environment\\\".\")\n"
   ]
  },
  {
   "cell_type": "markdown",
   "id": "a0451b1a-85de-4192-9b22-cd1e152d1eca",
   "metadata": {},
   "source": [
    "Exercise 6"
   ]
  },
  {
   "cell_type": "code",
   "execution_count": 19,
   "id": "61eac447-a77a-499a-a99c-a1e4bd5ceed1",
   "metadata": {},
   "outputs": [
    {
     "name": "stdout",
     "output_type": "stream",
     "text": [
      "python is an \"awesome\" language.\n",
      "python\n",
      "\t2023\n",
      "I'm from Entri\n",
      "5\n",
      "e\n",
      "Entri\n",
      "2023\n",
      "Entr2023\n",
      "Entri*20"
     ]
    }
   ],
   "source": [
    "print(\"python is an \\\"awesome\\\" language.\")\n",
    "print(\"python\\n\\t2023\")\n",
    "print('I\\'m from Entri.\\b')\n",
    "print(\"\\65\")\n",
    "print(\"\\x65\")\n",
    "print(\"Entri\", \"2023\", sep=\"\\n\")\n",
    "print(\"Entri\", \"2023\", sep=\"\\b\")\n",
    "print(\"Entri\", \"2023\", sep=\"*\", end=\"\\b\\b\\b\\b\")\n"
   ]
  },
  {
   "cell_type": "markdown",
   "id": "cdf97b1f-6fea-456d-9869-0b65a5ad58be",
   "metadata": {},
   "source": [
    "Exercise 7"
   ]
  },
  {
   "cell_type": "code",
   "execution_count": 26,
   "id": "f9f8db62-40e0-4b11-bc7a-ec43dbafff06",
   "metadata": {},
   "outputs": [
    {
     "name": "stdout",
     "output_type": "stream",
     "text": [
      "<class 'int'>\n",
      "<class 'str'>\n",
      "<class 'float'>\n",
      "Sum: 178.3\n",
      "Type of sum: <class 'float'>\n"
     ]
    }
   ],
   "source": [
    "num = 23\n",
    "textnum = \"57\"\n",
    "decimal = 98.3\n",
    "\n",
    "print(type(num))      # Integer\n",
    "print(type(textnum))  # String\n",
    "print(type(decimal))  # Float\n",
    "\n",
    "# Convert textnum to integer and calculate sum\n",
    "total_sum = num + int(textnum) + decimal\n",
    "print(\"Sum:\", total_sum)\n",
    "print(\"Type of sum:\", type(total_sum))\n"
   ]
  },
  {
   "cell_type": "markdown",
   "id": "61848413-490a-4e77-a985-14be7ea9b8c8",
   "metadata": {},
   "source": [
    "Exercise 8"
   ]
  },
  {
   "cell_type": "code",
   "execution_count": 29,
   "id": "4e59c6fe-67af-4a99-ba01-4fd2db484b2a",
   "metadata": {},
   "outputs": [
    {
     "name": "stdout",
     "output_type": "stream",
     "text": [
      "Total number of minutes in a year: 525600\n"
     ]
    }
   ],
   "source": [
    "days_in_year = 365\n",
    "hours_in_day = 24\n",
    "minutes_in_hour = 60\n",
    "\n",
    "total_minutes = days_in_year * hours_in_day * minutes_in_hour\n",
    "print(\"Total number of minutes in a year:\", total_minutes)\n"
   ]
  },
  {
   "cell_type": "markdown",
   "id": "635f4367-bac9-4ead-adfa-996e736ffece",
   "metadata": {},
   "source": [
    "Exercise 9"
   ]
  },
  {
   "cell_type": "code",
   "execution_count": 40,
   "id": "8043707a-5c78-4969-acda-712cb3743aa9",
   "metadata": {},
   "outputs": [
    {
     "name": "stdin",
     "output_type": "stream",
     "text": [
      "Name:  Hari\n"
     ]
    },
    {
     "name": "stdout",
     "output_type": "stream",
     "text": [
      "Hi Hari, welcome to Python programming :)\n"
     ]
    }
   ],
   "source": [
    "name = input(\"Name: \")\n",
    "print(\"Hi\", name + \", welcome to Python programming :)\")\n"
   ]
  },
  {
   "cell_type": "markdown",
   "id": "4e5ee606-7acb-4a17-b73f-f9945575d487",
   "metadata": {},
   "source": [
    "Exercise 10"
   ]
  },
  {
   "cell_type": "code",
   "execution_count": 42,
   "id": "4e507ef0-6d10-4122-a41d-2fa96d392fd2",
   "metadata": {},
   "outputs": [
    {
     "name": "stdin",
     "output_type": "stream",
     "text": [
      "Please enter amount in pounds:  500\n"
     ]
    },
    {
     "name": "stdout",
     "output_type": "stream",
     "text": [
      "£ 500.0 are $ 635.0\n"
     ]
    }
   ],
   "source": [
    "pounds = float(input(\"Please enter amount in pounds: \"))\n",
    "exchange_rate = 1.27  # Example conversion rate (can change based on market rates)\n",
    "dollars = pounds * exchange_rate\n",
    "\n",
    "print(\"£\", pounds, \"are $\", round(dollars, 2))\n"
   ]
  },
  {
   "cell_type": "code",
   "execution_count": null,
   "id": "d6534d85-2667-42a3-a472-799b96490145",
   "metadata": {},
   "outputs": [],
   "source": []
  }
 ],
 "metadata": {
  "kernelspec": {
   "display_name": "Python [conda env:base] *",
   "language": "python",
   "name": "conda-base-py"
  },
  "language_info": {
   "codemirror_mode": {
    "name": "ipython",
    "version": 3
   },
   "file_extension": ".py",
   "mimetype": "text/x-python",
   "name": "python",
   "nbconvert_exporter": "python",
   "pygments_lexer": "ipython3",
   "version": "3.12.7"
  }
 },
 "nbformat": 4,
 "nbformat_minor": 5
}
