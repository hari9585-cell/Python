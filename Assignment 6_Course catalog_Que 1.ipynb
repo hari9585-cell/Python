{
 "cells": [
  {
   "cell_type": "code",
   "execution_count": 18,
   "id": "b74d6d15-82b9-4bbe-bec4-3329b5f9b358",
   "metadata": {},
   "outputs": [],
   "source": [
    "#Question 1: Course Catalog Management\n",
    "# Base class\n",
    "class Course:\n",
    "    def __init__(self, course_code, course_name, credit_hours):\n",
    "        self.course_code = course_code\n",
    "        self.course_name = course_name\n",
    "        self.credit_hours = credit_hours\n",
    "    \n",
    "    def display_course_info(self):\n",
    "        return f\"Course Code: {self.course_code}, Name: {self.course_name}, Credit Hours: {self.credit_hours}\""
   ]
  },
  {
   "cell_type": "code",
   "execution_count": 20,
   "id": "e4e17f86-5641-4bdf-bf69-62cf4e72044f",
   "metadata": {},
   "outputs": [],
   "source": [
    "# Subclass for Core Course\n",
    "class CoreCourse(Course):\n",
    "    def __init__(self, course_code, course_name, credit_hours, required_for_major):\n",
    "        super().__init__(course_code, course_name, credit_hours)\n",
    "        self.required_for_major = required_for_major\n",
    "\n",
    "    def display_course_info(self):\n",
    "        return super().display_course_info() + f\", Required for Major: {self.required_for_major}\"\n"
   ]
  },
  {
   "cell_type": "code",
   "execution_count": 22,
   "id": "56c8af71-14cc-4b1d-8011-0137e5f4cdb7",
   "metadata": {},
   "outputs": [],
   "source": [
    "# Subclass for Elective Course\n",
    "class ElectiveCourse(Course):\n",
    "    def __init__(self, course_code, course_name, credit_hours, elective_type):\n",
    "        super().__init__(course_code, course_name, credit_hours)\n",
    "        self.elective_type = elective_type\n",
    "\n",
    "    def display_course_info(self):\n",
    "        return super().display_course_info() + f\", Elective Type: {self.elective_type}\"\n"
   ]
  },
  {
   "cell_type": "code",
   "execution_count": 28,
   "id": "7800256b-41c6-4adf-8fc5-7cf4150490f6",
   "metadata": {},
   "outputs": [
    {
     "name": "stdout",
     "output_type": "stream",
     "text": [
      "Course Code: CS101, Name: Introduction to Computer Science, Credit Hours: 3, Required for Major: True\n",
      "Course Code: GEO201, Name: Geography, Credit Hours: 2, Elective Type: Political science\n"
     ]
    }
   ],
   "source": [
    "# Final display\n",
    "core_course = CoreCourse(\"CS101\", \"Introduction to Computer Science\", 3, True)\n",
    "elective_course = ElectiveCourse(\"GEO201\", \"Geography\", 2, \"Political science\")\n",
    "\n",
    "print(core_course.display_course_info())\n",
    "print(elective_course.display_course_info())"
   ]
  },
  {
   "cell_type": "code",
   "execution_count": null,
   "id": "d1c49e9f-2a3d-4bda-a9a2-83f5fe25d773",
   "metadata": {},
   "outputs": [],
   "source": [
    "\n"
   ]
  }
 ],
 "metadata": {
  "kernelspec": {
   "display_name": "Python [conda env:base] *",
   "language": "python",
   "name": "conda-base-py"
  },
  "language_info": {
   "codemirror_mode": {
    "name": "ipython",
    "version": 3
   },
   "file_extension": ".py",
   "mimetype": "text/x-python",
   "name": "python",
   "nbconvert_exporter": "python",
   "pygments_lexer": "ipython3",
   "version": "3.12.7"
  }
 },
 "nbformat": 4,
 "nbformat_minor": 5
}
